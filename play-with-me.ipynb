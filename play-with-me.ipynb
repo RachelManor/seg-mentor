{
 "cells": [
  {
   "cell_type": "markdown",
   "metadata": {
    "collapsed": true
   },
   "source": [
    "# Hey sweetheart!\n",
    "## Let's segment some Stuff!\n"
   ]
  },
  {
   "cell_type": "markdown",
   "metadata": {},
   "source": [
    "#### For a smooth ride, use a kernel from a nice clean virtualenv with (the right) TF and other dependencies installed: \n",
    "\n",
    "Follow [THIS](http://anbasile.github.io/programming/2017/06/25/jupyter-venv/) and [THIS](https://www.tensorflow.org/install/install_linux), \n",
    "or try the following recipe, after editing ```requirements``` to have the right version of tensorflow[-gpu] ,   <br>corresponding to your HW & CUDA setup (yep, it's not cross-compatible. Sad.)\n",
    "```\n",
    "    mkdir ~/envs && mkdir ~/envs/fresh4seg\n",
    "    virtualenv ~/envs/fresh4seg -p python2  # w.o. --system-packages. let's have it clean\n",
    "    source ~/envs/fresh4seg/bin/activate\n",
    "    which pip                      # verify it's the venvs' (not system) pip\n",
    "    pip install -r requirements\n",
    "    which ipython                  # verify it's the venvs' (not system) ipython\n",
    "    ipython kernel install --user --name=fresh4seg\n",
    "    deactivate\n",
    "```\n",
    "Run the system (not venv) ***jupyter notebook [flags]***, then in notebook Kernel-> Change kernel -> fresh4seg"
   ]
  },
  {
   "cell_type": "code",
   "execution_count": null,
   "metadata": {
    "collapsed": true
   },
   "outputs": [],
   "source": [
    "import tensorflow as tf\n",
    "print tf.__version__"
   ]
  },
  {
   "cell_type": "markdown",
   "metadata": {},
   "source": [
    "#### Download a pre-trained model"
   ]
  },
  {
   "cell_type": "code",
   "execution_count": 3,
   "metadata": {},
   "outputs": [
    {
     "name": "stdout",
     "output_type": "stream",
     "text": [
      "mkdir: cannot create directory ‘tmp’: File exists\n",
      "--2018-05-02 16:18:06--  https://github.com/hailotech/hailo-segmentation/releases/download/v0.5/inception_v1_fcn16.tgz\n",
      "Resolving github.com (github.com)... 192.30.253.112, 192.30.253.113\n",
      "Connecting to github.com (github.com)|192.30.253.112|:443... connected.\n",
      "HTTP request sent, awaiting response... 404 Not Found\n",
      "2018-05-02 16:18:06 ERROR 404: Not Found.\n",
      "\n",
      "tmp/Apr24_inception_v1__1/fcn.ckpt.data-00000-of-00001\n",
      "tmp/Apr24_inception_v1__1/fcn.ckpt.index\n",
      "tmp/Apr24_inception_v1__1/fcn.ckpt.meta\n",
      "tmp/Apr24_inception_v1__1/runargs\n"
     ]
    }
   ],
   "source": [
    "!mkdir tmp\n",
    "!cd tmp\n",
    "!wget https://github.com/hailotech/hailo-segmentation/releases/download/v0.5/inception_v1_fcn16.tgz\n",
    "!tar -xzvf inception_v1_fcn16.tgz\n",
    "!cd .."
   ]
  },
  {
   "cell_type": "markdown",
   "metadata": {},
   "source": [
    "#### Download some media"
   ]
  },
  {
   "cell_type": "code",
   "execution_count": null,
   "metadata": {
    "collapsed": true
   },
   "outputs": [],
   "source": [
    "!wget https://github.com/hailotech/hailo-segmentation/releases/download/v0.5/perfectparking.mp4    "
   ]
  },
  {
   "cell_type": "code",
   "execution_count": 11,
   "metadata": {
    "scrolled": true
   },
   "outputs": [
    {
     "data": {
      "text/html": [
       "<div align=\"middle\">\n",
       "<video width=\"80%\" controls>\n",
       "      <source src=\"perfectparking.mp4\" type=\"video/mp4\">\n",
       "</video></div>"
      ],
      "text/plain": [
       "<IPython.core.display.HTML object>"
      ]
     },
     "metadata": {},
     "output_type": "display_data"
    }
   ],
   "source": [
    "%%HTML\n",
    "<div align=\"middle\">\n",
    "<video width=\"80%\" controls>\n",
    "      <source src=\"perfectparking.mp4\" type=\"video/mp4\">\n",
    "</video></div>"
   ]
  },
  {
   "cell_type": "markdown",
   "metadata": {},
   "source": [
    "#### Now let's run the model:"
   ]
  },
  {
   "cell_type": "code",
   "execution_count": null,
   "metadata": {
    "collapsed": true
   },
   "outputs": [],
   "source": [
    "from fcn_test import *\n",
    "import json \n",
    "\n",
    "traindir = 'tmp/Apr24_inception_v1__1/'\n",
    "checkpoint = traindir+'fcn.ckpt' \n",
    "pixels = 512\n",
    "\n",
    "cfg = json.load(open(traindir+'/runargs'))\n",
    "tf.reset_default_graph()\n",
    "\n",
    "fcn_builder = fcn_arch.FcnArch(number_of_classes=number_of_classes, is_training=False, net=cfg['basenet'],\n",
    "                               trainable_upsampling=cfg['trainable_upsampling'], fcn16=cfg['fcn16'])\n",
    "\n",
    "fcnfunc_img2labels = lambda img: tf.argmax(fcn_builder.build_net(img), dimension=3)\n",
    "segment_movie(fcnfunc_img2labels, checkpoint, 'perfectparking.mp4', pixels)"
   ]
  },
  {
   "cell_type": "markdown",
   "metadata": {},
   "source": [
    "#### Side note: same functionality available from command line as:\n",
    "``` source ~/envs/fresh4seg/bin/activate\n",
    "python fcn_test.py --traindir=tmp/Apr24_inception_v1__1 --movie=perfectparking.mp4\n",
    "```"
   ]
  },
  {
   "cell_type": "markdown",
   "metadata": {},
   "source": [
    "#### OK let's see what we got:"
   ]
  },
  {
   "cell_type": "code",
   "execution_count": 9,
   "metadata": {},
   "outputs": [
    {
     "data": {
      "text/html": [
       "<div align=\"middle\">\n",
       "<video width=\"80%\" controls>\n",
       "      <source src=\"perfectparking_segmented.mp4\" type=\"video/mp4\">\n",
       "</video></div>"
      ],
      "text/plain": [
       "<IPython.core.display.HTML object>"
      ]
     },
     "metadata": {},
     "output_type": "display_data"
    }
   ],
   "source": [
    "%%HTML\n",
    "<div align=\"middle\">\n",
    "<video width=\"80%\" controls>\n",
    "      <source src=\"perfectparking_segmented.mp4\" type=\"video/mp4\">\n",
    "</video></div>"
   ]
  },
  {
   "cell_type": "markdown",
   "metadata": {},
   "source": [
    "#### Let's segment a single image now, with legends and stuff:"
   ]
  },
  {
   "cell_type": "code",
   "execution_count": 11,
   "metadata": {
    "collapsed": true
   },
   "outputs": [],
   "source": [
    "# TODO!"
   ]
  }
 ],
 "metadata": {
  "kernelspec": {
   "display_name": "fresh4seg",
   "language": "python",
   "name": "fresh4seg"
  },
  "language_info": {
   "codemirror_mode": {
    "name": "ipython",
    "version": 2
   },
   "file_extension": ".py",
   "mimetype": "text/x-python",
   "name": "python",
   "nbconvert_exporter": "python",
   "pygments_lexer": "ipython2",
   "version": "2.7.6"
  }
 },
 "nbformat": 4,
 "nbformat_minor": 2
}
